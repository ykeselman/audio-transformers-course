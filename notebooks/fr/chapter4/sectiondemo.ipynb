{
 "cells": [
  {
   "cell_type": "markdown",
   "metadata": {},
   "source": [
    "# Construire une démo avec Gradio"
   ]
  },
  {
   "cell_type": "markdown",
   "metadata": {},
   "source": [
    "Install the Transformers, Datasets, and Evaluate libraries to run this notebook."
   ]
  },
  {
   "cell_type": "code",
   "execution_count": null,
   "metadata": {},
   "outputs": [],
   "source": [
    "!pip install datasets evaluate transformers[sentencepiece]"
   ]
  },
  {
   "cell_type": "code",
   "execution_count": null,
   "metadata": {},
   "outputs": [],
   "source": [
    "from transformers import pipeline\n",
    "\n",
    "model_id = \"sanchit-gandhi/distilhubert-finetuned-gtzan\"\n",
    "pipe = pipeline(\"audio-classification\", model=model_id)"
   ]
  },
  {
   "cell_type": "code",
   "execution_count": null,
   "metadata": {},
   "outputs": [],
   "source": [
    "def classify_audio(filepath):\n",
    "    preds = pipe(filepath)\n",
    "    outputs = {}\n",
    "    for p in preds:\n",
    "        outputs[p[\"label\"]] = p[\"score\"]\n",
    "    return outputs"
   ]
  },
  {
   "cell_type": "code",
   "execution_count": null,
   "metadata": {},
   "outputs": [],
   "source": [
    "import gradio as gr\n",
    "\n",
    "demo = gr.Interface(\n",
    "    fn=classify_audio, inputs=gr.Audio(type=\"filepath\"), outputs=gr.outputs.Label()\n",
    ")\n",
    "demo.launch(debug=True)"
   ]
  }
 ],
 "metadata": {
  "colab": {
   "name": "Construire une démo avec Gradio",
   "provenance": []
  }
 },
 "nbformat": 4,
 "nbformat_minor": 4
}
