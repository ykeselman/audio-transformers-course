{
 "cells": [
  {
   "cell_type": "markdown",
   "metadata": {},
   "source": [
    "# 오디오 데이터 스트리밍하기"
   ]
  },
  {
   "cell_type": "markdown",
   "metadata": {},
   "source": [
    "Install the Transformers, Datasets, and Evaluate libraries to run this notebook."
   ]
  },
  {
   "cell_type": "code",
   "execution_count": null,
   "metadata": {},
   "outputs": [],
   "source": [
    "!pip install datasets evaluate transformers[sentencepiece]"
   ]
  },
  {
   "cell_type": "code",
   "execution_count": null,
   "metadata": {},
   "outputs": [],
   "source": [
    "gigaspeech = load_dataset(\"speechcolab/gigaspeech\", \"xs\", streaming=True)"
   ]
  },
  {
   "cell_type": "code",
   "execution_count": null,
   "metadata": {},
   "outputs": [],
   "source": [
    "next(iter(gigaspeech[\"train\"]))"
   ]
  },
  {
   "cell_type": "code",
   "execution_count": null,
   "metadata": {},
   "outputs": [],
   "source": [
    "gigaspeech_head = gigaspeech[\"train\"].take(2)\n",
    "list(gigaspeech_head)"
   ]
  }
 ],
 "metadata": {
  "colab": {
   "name": "오디오 데이터 스트리밍하기",
   "provenance": []
  }
 },
 "nbformat": 4,
 "nbformat_minor": 4
}
