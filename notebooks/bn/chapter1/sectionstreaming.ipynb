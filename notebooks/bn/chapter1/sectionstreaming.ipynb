{
 "cells": [
  {
   "cell_type": "markdown",
   "metadata": {},
   "source": [
    "# অডিও ডাটা স্ট্রিমিং"
   ]
  },
  {
   "cell_type": "markdown",
   "metadata": {},
   "source": [
    "Install the Transformers, Datasets, and Evaluate libraries to run this notebook."
   ]
  },
  {
   "cell_type": "code",
   "execution_count": null,
   "metadata": {},
   "outputs": [],
   "source": [
    "!pip install datasets evaluate transformers[sentencepiece]"
   ]
  },
  {
   "cell_type": "code",
   "execution_count": null,
   "metadata": {},
   "outputs": [],
   "source": [
    "gigaspeech = load_dataset(\"speechcolab/gigaspeech\", \"xs\", streaming=True)"
   ]
  },
  {
   "cell_type": "code",
   "execution_count": null,
   "metadata": {},
   "outputs": [],
   "source": [
    "next(iter(gigaspeech[\"train\"]))"
   ]
  },
  {
   "cell_type": "code",
   "execution_count": null,
   "metadata": {},
   "outputs": [],
   "source": [
    "gigaspeech_head = gigaspeech[\"train\"].take(2)\n",
    "list(gigaspeech_head)"
   ]
  }
 ],
 "metadata": {
  "colab": {
   "name": "অডিও ডাটা স্ট্রিমিং",
   "provenance": []
  }
 },
 "nbformat": 4,
 "nbformat_minor": 4
}
