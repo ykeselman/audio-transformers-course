{
 "cells": [
  {
   "cell_type": "markdown",
   "metadata": {},
   "source": [
    "# Streaming audio data"
   ]
  },
  {
   "cell_type": "markdown",
   "metadata": {},
   "source": [
    "Install the Transformers, Datasets, and Evaluate libraries to run this notebook."
   ]
  },
  {
   "cell_type": "code",
   "execution_count": 3,
   "metadata": {},
   "outputs": [],
   "source": [
    "from datasets import load_dataset\n",
    "\n",
    "gigaspeech = load_dataset(\"speechcolab/gigaspeech\", \"xs\", streaming=True, trust_remote_code=True)"
   ]
  },
  {
   "cell_type": "code",
   "execution_count": 4,
   "metadata": {},
   "outputs": [
    {
     "data": {
      "text/plain": [
       "{'segment_id': 'YOU0000000315_S0000660',\n",
       " 'speaker': 'N/A',\n",
       " 'text': \"AS THEY'RE LEAVING <COMMA> CAN KASH PULL ZAHRA ASIDE REALLY QUICKLY <QUESTIONMARK>\",\n",
       " 'audio': {'path': 'xs_chunks_0000/YOU0000000315_S0000660.wav',\n",
       "  'array': array([0.0005188 , 0.00085449, 0.00012207, ..., 0.00125122, 0.00076294,\n",
       "         0.00036621]),\n",
       "  'sampling_rate': 16000},\n",
       " 'begin_time': 2941.89,\n",
       " 'end_time': 2945.07,\n",
       " 'audio_id': 'YOU0000000315',\n",
       " 'title': 'Return to Vasselheim | Critical Role: VOX MACHINA | Episode 43',\n",
       " 'url': 'https://www.youtube.com/watch?v=zr2n1fLVasU',\n",
       " 'source': 2,\n",
       " 'category': 24,\n",
       " 'original_full_path': 'audio/youtube/P0004/YOU0000000315.opus'}"
      ]
     },
     "execution_count": 4,
     "metadata": {},
     "output_type": "execute_result"
    }
   ],
   "source": [
    "next(iter(gigaspeech[\"train\"]))"
   ]
  },
  {
   "cell_type": "code",
   "execution_count": 5,
   "metadata": {},
   "outputs": [
    {
     "data": {
      "text/plain": [
       "[{'segment_id': 'YOU0000000315_S0000660',\n",
       "  'speaker': 'N/A',\n",
       "  'text': \"AS THEY'RE LEAVING <COMMA> CAN KASH PULL ZAHRA ASIDE REALLY QUICKLY <QUESTIONMARK>\",\n",
       "  'audio': {'path': 'xs_chunks_0000/YOU0000000315_S0000660.wav',\n",
       "   'array': array([0.0005188 , 0.00085449, 0.00012207, ..., 0.00125122, 0.00076294,\n",
       "          0.00036621]),\n",
       "   'sampling_rate': 16000},\n",
       "  'begin_time': 2941.89,\n",
       "  'end_time': 2945.07,\n",
       "  'audio_id': 'YOU0000000315',\n",
       "  'title': 'Return to Vasselheim | Critical Role: VOX MACHINA | Episode 43',\n",
       "  'url': 'https://www.youtube.com/watch?v=zr2n1fLVasU',\n",
       "  'source': 2,\n",
       "  'category': 24,\n",
       "  'original_full_path': 'audio/youtube/P0004/YOU0000000315.opus'},\n",
       " {'segment_id': 'AUD0000001043_S0000775',\n",
       "  'speaker': 'N/A',\n",
       "  'text': 'SIX TOMATOES <PERIOD>',\n",
       "  'audio': {'path': 'xs_chunks_0000/AUD0000001043_S0000775.wav',\n",
       "   'array': array([ 1.43432617e-03,  1.37329102e-03,  1.31225586e-03, ...,\n",
       "          -6.10351562e-05, -1.22070312e-04, -1.83105469e-04]),\n",
       "   'sampling_rate': 16000},\n",
       "  'begin_time': 3673.96,\n",
       "  'end_time': 3675.26,\n",
       "  'audio_id': 'AUD0000001043',\n",
       "  'title': 'Asteroid of Fear',\n",
       "  'url': 'http//www.archive.org/download/asteroid_of_fear_1012_librivox/asteroid_of_fear_1012_librivox_64kb_mp3.zip',\n",
       "  'source': 0,\n",
       "  'category': 28,\n",
       "  'original_full_path': 'audio/audiobook/P0011/AUD0000001043.opus'}]"
      ]
     },
     "execution_count": 5,
     "metadata": {},
     "output_type": "execute_result"
    }
   ],
   "source": [
    "gigaspeech_head = gigaspeech[\"train\"].take(2)\n",
    "list(gigaspeech_head)"
   ]
  },
  {
   "cell_type": "code",
   "execution_count": null,
   "metadata": {},
   "outputs": [],
   "source": []
  }
 ],
 "metadata": {
  "colab": {
   "name": "Streaming audio data",
   "provenance": []
  },
  "kernelspec": {
   "display_name": "studies",
   "language": "python",
   "name": "python3"
  },
  "language_info": {
   "codemirror_mode": {
    "name": "ipython",
    "version": 3
   },
   "file_extension": ".py",
   "mimetype": "text/x-python",
   "name": "python",
   "nbconvert_exporter": "python",
   "pygments_lexer": "ipython3",
   "version": "3.10.14"
  }
 },
 "nbformat": 4,
 "nbformat_minor": 4
}
